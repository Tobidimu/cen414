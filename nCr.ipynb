{
 "cells": [
  {
   "cell_type": "code",
   "execution_count": 25,
   "id": "7bff0062-bedf-454e-8d94-128e9509ea63",
   "metadata": {},
   "outputs": [],
   "source": [
    "def fact(num):\n",
    "    fact = 1\n",
    "    for i  in range(1,num+1):\n",
    "        fact *= i\n",
    "    return fact \n",
    "\n",
    "\n",
    "def combination(n,r):\n",
    "    if(n>=r):\n",
    "        nCr = (fact(n))/(fact(n-r)*fact(r))\n",
    "        return nCr\n",
    "    else: \n",
    "        return \"n<r is not applicable\"\n",
    "    \n",
    "    \n",
    "\n"
   ]
  },
  {
   "cell_type": "code",
   "execution_count": 26,
   "id": "851e1e74-44a8-4187-9a40-a26f33f1cf6b",
   "metadata": {},
   "outputs": [
    {
     "name": "stdout",
     "output_type": "stream",
     "text": [
      "Enter the term n 7\n",
      "Enter the term r 8\n"
     ]
    },
    {
     "name": "stdout",
     "output_type": "stream",
     "text": [
      "n<r is not applicable\n"
     ]
    }
   ],
   "source": [
    "n = int(input(\"Enter the term n\"))\n",
    "r = int(input(\"Enter the term r\"))\n",
    "\n",
    "print(combination(n,r))"
   ]
  },
  {
   "cell_type": "code",
   "execution_count": null,
   "id": "02fc1941-7267-40ed-9fc5-939f18209f74",
   "metadata": {},
   "outputs": [],
   "source": [
    "Ogundimu Olutobi Emmanuel\n",
    "19CJ025816"
   ]
  },
  {
   "cell_type": "code",
   "execution_count": null,
   "id": "87467a8a-9872-4086-85fd-c73fa82a355b",
   "metadata": {},
   "outputs": [],
   "source": []
  }
 ],
 "metadata": {
  "kernelspec": {
   "display_name": "Python 3 (ipykernel)",
   "language": "python",
   "name": "python3"
  },
  "language_info": {
   "codemirror_mode": {
    "name": "ipython",
    "version": 3
   },
   "file_extension": ".py",
   "mimetype": "text/x-python",
   "name": "python",
   "nbconvert_exporter": "python",
   "pygments_lexer": "ipython3",
   "version": "3.10.5"
  }
 },
 "nbformat": 4,
 "nbformat_minor": 5
}
